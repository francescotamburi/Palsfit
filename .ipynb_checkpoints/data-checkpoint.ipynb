{
 "cells": [
  {
   "cell_type": "markdown",
   "id": "da4f5558-eeac-4938-b197-b71dc9710234",
   "metadata": {
    "tags": []
   },
   "source": [
    "<table style=\"width:100%;text-align:center;\">\n",
    "    <tr>\n",
    "        <th>Resolution function</th>\n",
    "        <th>Tau 1</th>\n",
    "        <th>Tau 2 Range</th>\n",
    "    </tr>\n",
    "    <tr>\n",
    "        <td rowspan=\"3\"><details>\n",
    "            <summary>3 gaussians</summary>\n",
    "            <table style=\"text-align:center;\">\n",
    "                   <tr>\n",
    "                   <th>FWHM (ps)</th>\n",
    "                    <th>Intensity (%)</th>\n",
    "                    <th>Shift (ps)</th>\n",
    "                </tr>\n",
    "                <tr>\n",
    "                    <td>213.3</td>\n",
    "                    <td>80</td>\n",
    "                    <td>0</td>\n",
    "                </tr>\n",
    "                <tr>\n",
    "                    <td>150.2</td>\n",
    "                    <td>10</td>\n",
    "                    <td>-5</td>\n",
    "                </tr>\n",
    "                <tr>\n",
    "                    <td>265.7</td>\n",
    "                    <td>10</td>\n",
    "                    <td>17</td>\n",
    "                </tr>\n",
    "            </table>\n",
    "        </details></td>\n",
    "        <td><a>150</a></td>\n",
    "        <td><details><summary>180-280</summary> <i>[220, 230, 240, 250, 260, 270, 280]</i></details></td>\n",
    "    </tr>\n",
    "    <tr>\n",
    "        <td><a>180</a></td>\n",
    "        <td>\n",
    "            <details><summary>220-280</summary> <i>[180, 190, 200, 210, 220, 230, 240, 250, 260, 270, 280]</i></details>\n",
    "        </td>\n",
    "    </tr>\n",
    "    <tr>\n",
    "        <td>220</td>\n",
    "        <td>N/A</td>\n",
    "    </tr>\n",
    "    <tr>\n",
    "        <td>100</td>\n",
    "        <td rowspan=\"4\">150</td>\n",
    "        <td rowspan=\"4\">\n",
    "            <details><summary>180-230</summary> <i>[180, 190, 200, 210, 220, 230]</i></details>\n",
    "        </td>\n",
    "    </tr>\n",
    "    <tr>\n",
    "        <td>150</td>\n",
    "    </tr>\n",
    "    <tr>\n",
    "        <td>180</td>\n",
    "    </tr>\n",
    "    <tr>\n",
    "        <td>200</td>\n",
    "    </tr>\n",
    "</table>"
   ]
  },
  {
   "cell_type": "code",
   "execution_count": null,
   "id": "6ec7c89c-030a-4c11-a074-7af9d78e44a7",
   "metadata": {},
   "outputs": [],
   "source": []
  }
 ],
 "metadata": {
  "kernelspec": {
   "display_name": "Python 3 (ipykernel)",
   "language": "python",
   "name": "python3"
  },
  "language_info": {
   "codemirror_mode": {
    "name": "ipython",
    "version": 3
   },
   "file_extension": ".py",
   "mimetype": "text/x-python",
   "name": "python",
   "nbconvert_exporter": "python",
   "pygments_lexer": "ipython3",
   "version": "3.9.7"
  }
 },
 "nbformat": 4,
 "nbformat_minor": 5
}
